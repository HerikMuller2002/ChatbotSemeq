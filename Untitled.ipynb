{
 "cells": [
  {
   "cell_type": "code",
   "execution_count": 5,
   "id": "df26d41a-f6f6-468d-ac00-2dc0cbd71db2",
   "metadata": {},
   "outputs": [
    {
     "name": "stdout",
     "output_type": "stream",
     "text": [
      "amigo, mundo! Seja bem-vindo.\n"
     ]
    }
   ],
   "source": [
    "texto = \"Olá, mundo! Seja bem-vindo.\"\n",
    "\n",
    "substituicao = \"amigo\"\n",
    "texto_substituido = texto[:0] + substituicao + texto[3:]\n",
    "\n",
    "print(texto_substituido)\n",
    "\n"
   ]
  }
 ],
 "metadata": {
  "kernelspec": {
   "display_name": "Python 3 (ipykernel)",
   "language": "python",
   "name": "python3"
  },
  "language_info": {
   "codemirror_mode": {
    "name": "ipython",
    "version": 3
   },
   "file_extension": ".py",
   "mimetype": "text/x-python",
   "name": "python",
   "nbconvert_exporter": "python",
   "pygments_lexer": "ipython3",
   "version": "3.9.7"
  }
 },
 "nbformat": 4,
 "nbformat_minor": 5
}
