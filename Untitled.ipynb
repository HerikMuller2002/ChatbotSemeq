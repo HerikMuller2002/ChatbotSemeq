{
 "cells": [
  {
   "cell_type": "code",
   "execution_count": 14,
   "id": "3361cb3d-322b-4ca8-a57f-07a02f756899",
   "metadata": {},
   "outputs": [
    {
     "name": "stdout",
     "output_type": "stream",
     "text": [
      "Index(['assunto', 'app/device', 'interface', 'modelo', 'problema', 'solucao'], dtype='object')\n"
     ]
    }
   ],
   "source": [
    "import pandas as pd\n",
    "import os\n",
    "\n",
    "dados = pd.read_csv(\"database\\\\tabela_problemas.csv\", encoding=\"iso-8859-1\")\n",
    "print(dados.columns)"
   ]
  },
  {
   "cell_type": "code",
   "execution_count": 20,
   "id": "73dba10d-eefe-4b1f-9468-80d8c2ae02ec",
   "metadata": {},
   "outputs": [
    {
     "data": {
      "text/plain": [
       "'FALHA NO TECLADO DE MEMBRANA'"
      ]
     },
     "execution_count": 20,
     "metadata": {},
     "output_type": "execute_result"
    }
   ],
   "source": [
    "dados['problema'][5]"
   ]
  },
  {
   "cell_type": "code",
   "execution_count": null,
   "id": "7cbd09e7-4a05-47f2-b1d7-10ccff8cf0d3",
   "metadata": {},
   "outputs": [],
   "source": []
  }
 ],
 "metadata": {
  "kernelspec": {
   "display_name": "Python 3 (ipykernel)",
   "language": "python",
   "name": "python3"
  },
  "language_info": {
   "codemirror_mode": {
    "name": "ipython",
    "version": 3
   },
   "file_extension": ".py",
   "mimetype": "text/x-python",
   "name": "python",
   "nbconvert_exporter": "python",
   "pygments_lexer": "ipython3",
   "version": "3.9.13"
  }
 },
 "nbformat": 4,
 "nbformat_minor": 5
}
